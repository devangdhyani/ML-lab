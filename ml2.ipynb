{
 "cells": [
  {
   "cell_type": "code",
   "execution_count": 1,
   "id": "3144a006-3665-42cd-8681-3278466508df",
   "metadata": {},
   "outputs": [
    {
     "name": "stdout",
     "output_type": "stream",
     "text": [
      "[1 2 3 4 5]\n"
     ]
    }
   ],
   "source": [
    "import numpy as np\n",
    "arr1=np.array([1,2,3,4,5])\n",
    "print(arr1)\n",
    "     "
   ]
  },
  {
   "cell_type": "code",
   "execution_count": 2,
   "id": "e12482d7-e002-4994-8c84-b1413c26b99d",
   "metadata": {},
   "outputs": [
    {
     "name": "stdout",
     "output_type": "stream",
     "text": [
      "[0. 0. 0. 0.]\n"
     ]
    }
   ],
   "source": [
    "arr2=np.zeros(4)\n",
    "print(arr2)"
   ]
  },
  {
   "cell_type": "code",
   "execution_count": 3,
   "id": "aa8b21b8-bdbe-4abb-b40f-ca4ad94bced3",
   "metadata": {},
   "outputs": [
    {
     "name": "stdout",
     "output_type": "stream",
     "text": [
      "[[1. 1. 1. 1.]\n",
      " [1. 1. 1. 1.]\n",
      " [1. 1. 1. 1.]]\n"
     ]
    }
   ],
   "source": [
    "arr3=np.ones((3,4))\n",
    "print(arr3)\n",
    "     "
   ]
  },
  {
   "cell_type": "code",
   "execution_count": 4,
   "id": "fa42eb1b-71aa-49b7-9279-9933b005b6d0",
   "metadata": {},
   "outputs": [
    {
     "name": "stdout",
     "output_type": "stream",
     "text": [
      "[0 1 2 3 4 5 6 7 8 9]\n"
     ]
    }
   ],
   "source": [
    "#Creating array using arange() function\n",
    "arr4=np.arange(0,10,1)\n",
    "print(arr4)"
   ]
  },
  {
   "cell_type": "code",
   "execution_count": 5,
   "id": "2e20ea7c-1b71-4512-933b-c30b2d372e13",
   "metadata": {},
   "outputs": [
    {
     "name": "stdout",
     "output_type": "stream",
     "text": [
      "[0 1 2 3 4 5 6 7 8 9]\n"
     ]
    }
   ],
   "source": [
    "#Creating array using arange() function\n",
    "arr4=np.arange(0,10,1)\n",
    "print(arr4)"
   ]
  },
  {
   "cell_type": "code",
   "execution_count": 6,
   "id": "ac9a0ebf-2909-4dfa-8da3-9ba08926a5f5",
   "metadata": {},
   "outputs": [
    {
     "name": "stdout",
     "output_type": "stream",
     "text": [
      "[[1. 0. 0.]\n",
      " [0. 1. 0.]\n",
      " [0. 0. 1.]]\n"
     ]
    }
   ],
   "source": [
    "#Creating array using identity() function\n",
    "arr6=np.identity(3)\n",
    "print(arr6)"
   ]
  },
  {
   "cell_type": "code",
   "execution_count": 7,
   "id": "a16db4ad-23b8-4e67-a8f1-d9bbb2110019",
   "metadata": {},
   "outputs": [
    {
     "name": "stdout",
     "output_type": "stream",
     "text": [
      "[[3 3 3]\n",
      " [3 3 3]]\n"
     ]
    }
   ],
   "source": [
    "\n",
    "#Creating array using full() function\n",
    "arr7=np.full((2,3),3)\n",
    "print(arr7)\n",
    "     "
   ]
  },
  {
   "cell_type": "code",
   "execution_count": 8,
   "id": "e255fa0c-9ce4-4738-9326-fb349e670c01",
   "metadata": {},
   "outputs": [
    {
     "name": "stdout",
     "output_type": "stream",
     "text": [
      "[[1 2 3]\n",
      " [4 5 6]\n",
      " [7 8 9]]\n"
     ]
    }
   ],
   "source": [
    "#Creating a array\n",
    "a=np.array([[1,2,3],[4,5,6],[7,8,9]])\n",
    "print(a)"
   ]
  },
  {
   "cell_type": "code",
   "execution_count": 9,
   "id": "fec69927-eefd-48b7-9a54-fc7e47482ae3",
   "metadata": {},
   "outputs": [
    {
     "name": "stdout",
     "output_type": "stream",
     "text": [
      "a[0,2]= 3\n",
      "a[2,1]= 8\n"
     ]
    }
   ],
   "source": [
    "\n",
    "#Basic Indexing in array\n",
    "print(\"a[0,2]=\",a[0,2])\n",
    "print(\"a[2,1]=\",a[2,1])"
   ]
  },
  {
   "cell_type": "code",
   "execution_count": 10,
   "id": "a8fd5ea4-12fd-4f92-89df-5eec10b16cb5",
   "metadata": {},
   "outputs": [
    {
     "name": "stdout",
     "output_type": "stream",
     "text": [
      "Last 2 rows and last two columns\n",
      " [[5 6]\n",
      " [8 9]]\n",
      "All rows and 1st and 3rd column\n",
      " [[1 3]\n",
      " [4 6]\n",
      " [7 9]]\n"
     ]
    }
   ],
   "source": [
    "\n",
    "#Slicing in array\n",
    "print(\"Last 2 rows and last two columns\\n\",a[1:,1:])\n",
    "print(\"All rows and 1st and 3rd column\\n\",a[:,[0,2]])"
   ]
  },
  {
   "cell_type": "code",
   "execution_count": 11,
   "id": "662a5568-d5b9-42c6-bee6-331dbd803569",
   "metadata": {},
   "outputs": [
    {
     "name": "stdout",
     "output_type": "stream",
     "text": [
      "Elements greater than 5:  [6 7 8 9]\n",
      "Even elements:  [2 4 6 8]\n"
     ]
    }
   ],
   "source": [
    "\n",
    "\n",
    "#Boolean indexing in array\n",
    "print(\"Elements greater than 5: \",a[a>5])\n",
    "print(\"Even elements: \",a[a%2==0])\n",
    "     "
   ]
  },
  {
   "cell_type": "code",
   "execution_count": 12,
   "id": "2127f6b3-38b4-46e5-a08e-82e86c2bdc01",
   "metadata": {},
   "outputs": [
    {
     "name": "stdout",
     "output_type": "stream",
     "text": [
      "a = [ 1  2  3  4  5  6  7  8  9 10]\n",
      "b = [  1.  12.  23.  34.  45.  56.  67.  78.  89. 100.]\n"
     ]
    }
   ],
   "source": [
    "\n",
    "a=np.arange(1,11)\n",
    "b=np.linspace(1,100,10)\n",
    "print(\"a =\",a)\n",
    "print(\"b =\",b)"
   ]
  },
  {
   "cell_type": "code",
   "execution_count": 13,
   "id": "06ef0a7e-25c5-4c90-a9e3-434ebd25dd9d",
   "metadata": {},
   "outputs": [
    {
     "name": "stdout",
     "output_type": "stream",
     "text": [
      "Sum (a+b):  [  2.  14.  26.  38.  50.  62.  74.  86.  98. 110.]\n",
      "Subtraction by 5 (a-5):  [-4 -3 -2 -1  0  1  2  3  4  5]\n",
      "Multiplication (axb):  [   1.   24.   69.  136.  225.  336.  469.  624.  801. 1000.]\n",
      "Division by 2 (a/2):  [0.5 1.  1.5 2.  2.5 3.  3.5 4.  4.5 5. ]\n"
     ]
    }
   ],
   "source": [
    "\n",
    "#Element-Wise Arithmetic Operations\n",
    "print(\"Sum (a+b): \",a+b)\n",
    "print(\"Subtraction by 5 (a-5): \",a-5)\n",
    "print(\"Multiplication (axb): \",a*b)\n",
    "print(\"Division by 2 (a/2): \",a/2)"
   ]
  },
  {
   "cell_type": "code",
   "execution_count": 14,
   "id": "346cf378-9327-4c83-83bf-30b1b6ad1fe6",
   "metadata": {},
   "outputs": [
    {
     "name": "stdout",
     "output_type": "stream",
     "text": [
      "Sum:  55\n",
      "Mean:  5.5\n",
      "Standard Deviation:  2.8722813232690143\n",
      "Maximum:  10\n"
     ]
    }
   ],
   "source": [
    "print(\"Sum: \",a.sum())\n",
    "print(\"Mean: \",a.mean())\n",
    "print(\"Standard Deviation: \",a.std())\n",
    "print(\"Maximum: \",a.max())"
   ]
  },
  {
   "cell_type": "code",
   "execution_count": 15,
   "id": "9487173f-c05b-4445-bc43-73c5373215f2",
   "metadata": {},
   "outputs": [
    {
     "name": "stdout",
     "output_type": "stream",
     "text": [
      "Sin(a):  [ 0.84  0.91  0.14 -0.76 -0.96 -0.28  0.66  0.99  0.41 -0.54]\n",
      "Sqrt(a):  [1.   1.41 1.73 2.   2.24 2.45 2.65 2.83 3.   3.16]\n",
      "Log(a):  [0.   0.69 1.1  1.39 1.61 1.79 1.95 2.08 2.2  2.3 ]\n"
     ]
    }
   ],
   "source": [
    "#Element-Wise Mathematical Functions\n",
    "print(\"Sin(a): \",np.sin(a).round(2))\n",
    "print(\"Sqrt(a): \",np.sqrt(a).round(2))\n",
    "print(\"Log(a): \",np.log(a).round(2))"
   ]
  },
  {
   "cell_type": "code",
   "execution_count": 16,
   "id": "bf1c1345-b5ec-4da2-80a4-7d2add4e2e70",
   "metadata": {},
   "outputs": [
    {
     "name": "stdout",
     "output_type": "stream",
     "text": [
      "[[1 2 3]\n",
      " [4 5 6]\n",
      " [7 8 9]]\n",
      "[[-2 -3 -1]\n",
      " [-3  4  6]\n",
      " [ 0  0  1]]\n"
     ]
    }
   ],
   "source": [
    "#Creating two matrix\n",
    "a=np.array([[1,2,3],[4,5,6],[7,8,9]])\n",
    "b=np.array([[-2,-3,-1],[-3,4,6],[0,0,1]])\n",
    "print(a)\n",
    "print(b)\n",
    "     "
   ]
  },
  {
   "cell_type": "code",
   "execution_count": 17,
   "id": "b8447c80-0a0e-453c-8317-2aaa0a46f7c6",
   "metadata": {},
   "outputs": [
    {
     "name": "stdout",
     "output_type": "stream",
     "text": [
      "[[ -8   5  14]\n",
      " [-23   8  32]\n",
      " [-38  11  50]]\n"
     ]
    }
   ],
   "source": [
    "\n",
    "#Matrix multiplication\n",
    "print(np.dot(a,b))"
   ]
  },
  {
   "cell_type": "code",
   "execution_count": 19,
   "id": "19ba628f-9ece-41c9-a62e-6f39bff93048",
   "metadata": {},
   "outputs": [
    {
     "name": "stdout",
     "output_type": "stream",
     "text": [
      "[[0.49  0.392 0.384 0.179]\n",
      " [0.729 0.676 0.948 0.818]\n",
      " [0.093 0.264 0.534 0.447]]\n"
     ]
    }
   ],
   "source": [
    "\n",
    "#Random Numbers between 0 and 1\n",
    "a=np.random.rand(3,4)\n",
    "print(a.round(3))"
   ]
  },
  {
   "cell_type": "code",
   "execution_count": 20,
   "id": "e3874d38-82b0-4c46-b484-8ff1ade1be12",
   "metadata": {},
   "outputs": [
    {
     "name": "stdout",
     "output_type": "stream",
     "text": [
      "[[37 19 21]\n",
      " [12 39 10]]\n"
     ]
    }
   ],
   "source": [
    "#Random Numbers between a range\n",
    "a=np.random.randint(10,40,size=(2,3))\n",
    "print(a)\n",
    "     "
   ]
  },
  {
   "cell_type": "code",
   "execution_count": 21,
   "id": "45373210-3795-408c-87ad-5727412455a9",
   "metadata": {},
   "outputs": [
    {
     "name": "stdout",
     "output_type": "stream",
     "text": [
      "[[ 2.81732526  1.29837612 -1.44006775]\n",
      " [ 1.09328022  2.37671726  3.34448405]\n",
      " [ 2.54620041  2.49320725 -2.47891905]\n",
      " [ 6.48067082  1.45143666 -1.04699968]]\n"
     ]
    }
   ],
   "source": [
    "#Generate values from a normal distribution\n",
    "a=np.random.normal(loc=1,scale=2,size=(4,3))\n",
    "print(a)"
   ]
  },
  {
   "cell_type": "code",
   "execution_count": 22,
   "id": "353effaf-be25-43cd-ae87-c62597819f8d",
   "metadata": {},
   "outputs": [
    {
     "data": {
      "image/png": "[encoded data removed]",
      "text/plain": [
       "<Figure size 640x480 with 1 Axes>"
      ]
     },
     "metadata": {},
     "output_type": "display_data"
    }
   ],
   "source": [
    "\n",
    "#Plot the histogram\n",
    "import matplotlib.pyplot as plt\n",
    "temp=np.random.normal(loc=10,scale=30,size=1000)\n",
    "plt.hist(temp,bins=100,color=\"black\")\n",
    "plt.show()"
   ]
  },
  {
   "cell_type": "code",
   "execution_count": 23,
   "id": "5a9a0778-4103-473d-b99f-0d59109d1878",
   "metadata": {},
   "outputs": [
    {
     "name": "stdout",
     "output_type": "stream",
     "text": [
      "[[ 1 -2  0]\n",
      " [ 2 -3 -1]\n",
      " [ 0  7  4]]\n"
     ]
    }
   ],
   "source": [
    "\n",
    "#Creating a matrix\n",
    "q=np.array([[1,-2,0],[2,-3,-1],[0,7,4]])\n",
    "print(q)"
   ]
  },
  {
   "cell_type": "code",
   "execution_count": 24,
   "id": "5f3d4e2a-d566-492b-842e-f75e29ff47e6",
   "metadata": {},
   "outputs": [
    {
     "name": "stdout",
     "output_type": "stream",
     "text": [
      "10.999999999999996\n"
     ]
    }
   ],
   "source": [
    "#Determinant of a matrix\n",
    "print(np.linalg.det(q))"
   ]
  },
  {
   "cell_type": "code",
   "execution_count": 25,
   "id": "bf23906f-924b-4e98-bd02-76fe55a09087",
   "metadata": {},
   "outputs": [
    {
     "name": "stdout",
     "output_type": "stream",
     "text": [
      "Eigenvalue:  [-3.24  5.24  1.  ]\n",
      "Eigenvector: \n",
      " [[-0.92  0.38  0.48]\n",
      " [-0.38 -0.92 -0.67]\n",
      " [ 0.    0.    0.57]]\n"
     ]
    }
   ],
   "source": [
    "\n",
    "#Eigenvalues and eigenvectors\n",
    "val,vec=np.linalg.eig(b)\n",
    "print(\"Eigenvalue: \",val.round(2))\n",
    "print(\"Eigenvector: \\n\",vec.round(2))"
   ]
  },
  {
   "cell_type": "code",
   "execution_count": 27,
   "id": "92f4e19e-b15b-4450-831f-55920b76e391",
   "metadata": {},
   "outputs": [
    {
     "name": "stdout",
     "output_type": "stream",
     "text": [
      "[ 1 23 45 67 90]\n",
      "[ 10   8 -23 -46 -70]\n"
     ]
    }
   ],
   "source": [
    "#Creating two arrays\n",
    "a=np.array([1,23,45,67,90])\n",
    "b=np.array([10,8,-23,-46,-70])\n",
    "print(a)\n",
    "print(b)\n",
    "     "
   ]
  },
  {
   "cell_type": "code",
   "execution_count": 28,
   "id": "00fd02e4-b900-4265-aae1-75a1e7a0afae",
   "metadata": {},
   "outputs": [
    {
     "name": "stdout",
     "output_type": "stream",
     "text": [
      "Covariance Matrix\n",
      " [[ 1232.2  -1188.45]\n",
      " [-1188.45  1195.2 ]]\n",
      "Covariance:  -1188.45\n"
     ]
    }
   ],
   "source": [
    "#Compute covariance matrix\n",
    "m=np.cov(a,b)\n",
    "print(\"Covariance Matrix\\n\",m)\n",
    "print(\"Covariance: \",m[0,1])"
   ]
  },
  {
   "cell_type": "code",
   "execution_count": 29,
   "id": "3d2ee702-1597-43fd-9196-21a4da0759f1",
   "metadata": {},
   "outputs": [
    {
     "name": "stdout",
     "output_type": "stream",
     "text": [
      "Correlation Matrix\n",
      " [[ 1.         -0.97930962]\n",
      " [-0.97930962  1.        ]]\n",
      "Correlation:  -0.9793096195693798\n"
     ]
    }
   ],
   "source": [
    "#Compute correlation matrix\n",
    "m=np.corrcoef(a,b)\n",
    "print(\"Correlation Matrix\\n\", m)\n",
    "print(\"Correlation: \",m[0,1])"
   ]
  },
  {
   "cell_type": "code",
   "execution_count": 30,
   "id": "4d46d8d4-eb8d-49be-a96a-56b8706a16d8",
   "metadata": {},
   "outputs": [
    {
     "name": "stdout",
     "output_type": "stream",
     "text": [
      "Sorted array:  [-23  -1   0  23  45  89  90]\n"
     ]
    }
   ],
   "source": [
    "\n",
    "#Sort the 1D array\n",
    "a=np.array([23,89,-23,90,-1,0,45])\n",
    "print(\"Sorted array: \",np.sort(a))"
   ]
  },
  {
   "cell_type": "code",
   "execution_count": 31,
   "id": "107f004e-ded7-403a-bb66-1429e5fadaa1",
   "metadata": {},
   "outputs": [
    {
     "name": "stdout",
     "output_type": "stream",
     "text": [
      "Original\n",
      " [[ 3  4  2]\n",
      " [ 3 -3  2]\n",
      " [ 1  6  7]]\n",
      "Sort along each row\n",
      " [[ 2  3  4]\n",
      " [-3  2  3]\n",
      " [ 1  6  7]]\n",
      "Sort along each column\n",
      " [[ 1 -3  2]\n",
      " [ 3  4  2]\n",
      " [ 3  6  7]]\n"
     ]
    }
   ],
   "source": [
    "\n",
    "#Sort the 2D array\n",
    "b=np.array([[3,4,2],[3,-3,2],[1,6,7]])\n",
    "\n",
    "print(\"Original\\n\",b)\n",
    "print(\"Sort along each row\\n\",np.sort(b))\n",
    "print(\"Sort along each column\\n\",np.sort(b,axis=0))"
   ]
  },
  {
   "cell_type": "code",
   "execution_count": 32,
   "id": "92145290-4395-4440-94a8-3d64204876b7",
   "metadata": {},
   "outputs": [
    {
     "name": "stdout",
     "output_type": "stream",
     "text": [
      "Searching for a element:  (array([4]),)\n",
      "Searching with condition:  (array([0, 1, 6]),)\n"
     ]
    }
   ],
   "source": [
    "\n",
    "#Searching using where() function\n",
    "a=np.array([23,89,-23,90,-1,0,45])\n",
    "print(\"Searching for a element: \",np.where(a==-1))\n",
    "print(\"Searching with condition: \",np.where((a>0) & (a%2)))"
   ]
  },
  {
   "cell_type": "code",
   "execution_count": null,
   "id": "bc38c3ae-31a5-4376-969a-1274b9af4d0c",
   "metadata": {},
   "outputs": [],
   "source": []
  }
 ],
 "metadata": {
  "kernelspec": {
   "display_name": "Python 3 (ipykernel)",
   "language": "python",
   "name": "python3"
  },
  "language_info": {
   "codemirror_mode": {
    "name": "ipython",
    "version": 3
   },
   "file_extension": ".py",
   "mimetype": "text/x-python",
   "name": "python",
   "nbconvert_exporter": "python",
   "pygments_lexer": "ipython3",
   "version": "3.12.2"
  }
 },
 "nbformat": 4,
 "nbformat_minor": 5
}
